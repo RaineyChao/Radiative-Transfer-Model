{
 "cells": [
  {
   "cell_type": "markdown",
   "metadata": {},
   "source": [
    "# Radiative Transfer Model\n",
    "## Load Modules"
   ]
  },
  {
   "cell_type": "code",
   "execution_count": 1,
   "metadata": {},
   "outputs": [],
   "source": [
    "%matplotlib inline\n",
    "import RT\n",
    "import numpy as np\n",
    "import matplotlib.pyplot as plt"
   ]
  },
  {
   "cell_type": "markdown",
   "metadata": {},
   "source": [
    "## Load Incident Spectrum"
   ]
  },
  {
   "cell_type": "code",
   "execution_count": 2,
   "metadata": {},
   "outputs": [
    {
     "data": {
      "image/png": "[encoded data removed]",
      "text/plain": [
       "<Figure size 720x432 with 1 Axes>"
      ]
     },
     "metadata": {
      "needs_background": "light"
     },
     "output_type": "display_data"
    }
   ],
   "source": [
    "# Load Incident Spectrum\n",
    "Teff = 3300 # 4500\n",
    "logg = -0.5 # 0.00\n",
    "\n",
    "lbda, F_nu_R = np.loadtxt( './Data/Teff_{}_logg_{}.dat'.format( str( '%04d' %Teff ), \n",
    "                                                                str( '%.2f' %logg ) ), skiprows = 2 ).T\n",
    "\n",
    "# Plot\n",
    "fig, ax = plt.subplots(1, 1, figsize = (10, 6))\n",
    "ax.plot(lbda*1e4, F_nu_R, 'k-')\n",
    "ax.set_xscale('log'); ax.set_yscale('log')\n",
    "ax.set_xlim(0.1, 20)\n",
    "plt.show()"
   ]
  },
  {
   "cell_type": "markdown",
   "metadata": {},
   "source": [
    "## Set up your first model\n",
    "\n",
    "Now it's time to build up your first radiative transfer model. Currently, only shell models are supported."
   ]
  },
  {
   "cell_type": "code",
   "execution_count": 8,
   "metadata": {},
   "outputs": [],
   "source": [
    "from importlib import reload\n",
    "reload(RT)\n",
    "# Define a new shell model\n",
    "RT_Model = RT.shell()"
   ]
  },
  {
   "cell_type": "markdown",
   "metadata": {},
   "source": [
    "Changes are allowed to make to almost all the parameters shown above according to the real physical environment. The central star parameters are stored in a dictionary `stellar_params`, the parameters to make grids are listed in `grid_params`, and dust parameters can be accessed in `dust_params`. The corresponding keys are presented below:\n",
    "\n",
    "#### Keys in  `stellar_params`:\n",
    "\n",
    "```\n",
    "|Key                    |          Annotation                     | dtype    |\n",
    "|-----------------------|-----------------------------------------|----------|\n",
    "|R                      |Radius of the central star (R_sun)       |scalar    |\n",
    "|M                      |Mass of the central star (M_sun)         |scalar    |\n",
    "|Teff                   |Effective Temperature (K)                |scalar    |\n",
    "|logg                   |Surface gravity                          |scalar    |\n",
    "```\n",
    "\n",
    "#### Keys in `grid_params`:\n",
    "```\n",
    "|Key                    |Annotation                               |dtype     |\n",
    "|-----------------------|-----------------------------------------|----------|\n",
    "|lbda_min               |Minimum Wavelength (um)                  |scalar    |\n",
    "|lbda_max               |Maximum Wavelength (um)                  |scalar    |\n",
    "|nlbda                  |Number of wavelengths                    |scalar    |\n",
    "|r_min                  |Inner edge (au)                          |scalar    |\n",
    "|r_max                  |Outer edge (au)                          |scalar    |\n",
    "|nr                     |Number of layers                         |scalar    |\n",
    "|ntheta                 |Number of theta grid                     |scalar    |\n",
    "|a_min                  |Minimum dust radius (um)                 |scalar    |\n",
    "|a_max                  |Maximum dust radius (um)                 |scalar    |\n",
    "|na                     |Number of radius                         |scalar    |\n",
    "```\n",
    "#### Keys in `dust_params`:\n",
    "```\n",
    "|Key                    |Annotation                               |dtype     |\n",
    "|-----------------------|-----------------------------------------|----------|\n",
    "|siltype                |a                                        |str       |\n",
    "|cartype                |a                                        |str       |\n",
    "|icetype                |a                                        |str       |\n",
    "|f_sil                  |Volume fraction of silicate dust         |scalar    |\n",
    "|f_car                  |Volume fraction of carbonaceous dust     |scalar    |\n",
    "|f_ice                  |Volume fraction of ice                   |scalar    |\n",
    "|rho_sil                |Mass density of silicate dust (g/cm3)    |scalar    |\n",
    "|rho_car                |Mass density of carbonaceous dust (g/cm3)|scalar    |\n",
    "|rho_ice                |Mass density of ice (g/cm3               |scalar    |\n",
    "|radial_distribution    |Radial density distribution              |func      |\n",
    "|distribution_parameters|Distribution parameters                  |array like|\n",
    "```\n",
    "Let's try to make some changes over the default parameters.\n",
    "## Adjust parameters"
   ]
  },
  {
   "cell_type": "code",
   "execution_count": 9,
   "metadata": {},
   "outputs": [
    {
     "name": "stdout",
     "output_type": "stream",
     "text": [
      "Stellar parameters:\n",
      "    R    =   900.0 R_sun\n",
      "    M    =    15.0 M_sun\n",
      "    Teff =  3300.0 K\n",
      "    logg =    -0.5\n",
      "\n",
      "Grids:\n",
      "    Wavelength   (#1000):     0.0912 - 10000.0000 micron\n",
      "    Shell Radius (#  52):       18.0 -     1000.0 au\n",
      "    Dust Size    (# 102):       0.01 -    1000.00 micron\n",
      "    Theta        (#  25):          0 -         pi\n",
      "\n",
      "Dust properties:\n",
      "    -----------------------------------------------------------\n",
      "    Dust Component  Volume Fraction  Mass Density (g/cm3)  Type\n",
      "    -----------------------------------------------------------\n",
      "      Silicate            50%              3.50            DL84\n",
      "      Carbon              50%              3.30            amca\n",
      "    -----------------------------------------------------------\n",
      "    Radial Density Distribution: modified_power_law\n",
      "        Distribution Parameters: [2.0, 4.0]\n"
     ]
    }
   ],
   "source": [
    "# Adjust parameters\n",
    "RT_Model.stellar_params['M'] = 15.0\n",
    "RT_Model.stellar_params['Teff'] = Teff\n",
    "RT_Model.stellar_params['logg'] = logg\n",
    "RT_Model.dust_params['f_sil'] = 0.5\n",
    "RT_Model.dust_params['f_car'] = 0.5\n",
    "RT_Model.dust_params['distribution_parameters'] = [2.0, 4.0]\n",
    "\n",
    "# Use setup() method to set up the model with new dictionaries and\n",
    "# print out updated parameters by setting show = 1.\n",
    "RT_Model.setup( stellar_params = RT_Model.stellar_params, \n",
    "                grid_params    = RT_Model.grid_params, \n",
    "                dust_params    = RT_Model.dust_params, \n",
    "                show           = 1 )"
   ]
  },
  {
   "cell_type": "markdown",
   "metadata": {},
   "source": [
    "## Initialization"
   ]
  },
  {
   "cell_type": "code",
   "execution_count": 10,
   "metadata": {},
   "outputs": [
    {
     "name": "stdout",
     "output_type": "stream",
     "text": [
      "Radius  (au)       18.0    39.57    86.99    191.24    420.42    924.25\n",
      "--------------  -------  -------  -------  --------  --------  --------\n",
      "silicate (K)     793.48   477.64   311.09    219.21    160.82    120.05\n",
      "carbon   (K)    1045.32   768.1    564.73    415.1     305.6     225.72\n"
     ]
    }
   ],
   "source": [
    "# Initialize\n",
    "RT_Model.initialize( F_nu_R, show = 1 )"
   ]
  },
  {
   "cell_type": "markdown",
   "metadata": {},
   "source": [
    "## Run"
   ]
  },
  {
   "cell_type": "code",
   "execution_count": 11,
   "metadata": {},
   "outputs": [
    {
     "name": "stdout",
     "output_type": "stream",
     "text": [
      "0.11645951701387389\n"
     ]
    }
   ],
   "source": [
    "# Define free parameters:\n",
    "# 1. Power law index for size distribution ( MRN: dn/da ~ a^(-alpha) )\n",
    "alpha = 4.0\n",
    "# 2. Optical depth\n",
    "tau = np.logspace(np.log10(1.0), np.log10(2.5), 3)\n",
    "\n",
    "# Run\n",
    "RT_Model.run( alphas = alpha, optical_depths = tau )"
   ]
  },
  {
   "cell_type": "code",
   "execution_count": null,
   "metadata": {},
   "outputs": [],
   "source": []
  }
 ],
 "metadata": {
  "kernelspec": {
   "display_name": "Python 3",
   "language": "python",
   "name": "python3"
  },
  "language_info": {
   "codemirror_mode": {
    "name": "ipython",
    "version": 3
   },
   "file_extension": ".py",
   "mimetype": "text/x-python",
   "name": "python",
   "nbconvert_exporter": "python",
   "pygments_lexer": "ipython3",
   "version": "3.7.1"
  }
 },
 "nbformat": 4,
 "nbformat_minor": 2
}
